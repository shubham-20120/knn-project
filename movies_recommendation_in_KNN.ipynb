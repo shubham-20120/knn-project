{
  "nbformat": 4,
  "nbformat_minor": 0,
  "metadata": {
    "colab": {
      "name": "movies recommendation in KNN.ipynb",
      "provenance": [],
      "collapsed_sections": [
        "9MSB3R227EXr",
        "mhI3dmlp5Nyf",
        "5OwlFWYS5TKs",
        "HbtIHyiP5fI3",
        "aAEdq3D77N16"
      ],
      "authorship_tag": "ABX9TyOciq7M3QIujalXqrOp5udW",
      "include_colab_link": true
    },
    "kernelspec": {
      "name": "python3",
      "display_name": "Python 3"
    },
    "language_info": {
      "name": "python"
    },
    "accelerator": "GPU"
  },
  "cells": [
    {
      "cell_type": "markdown",
      "metadata": {
        "id": "view-in-github",
        "colab_type": "text"
      },
      "source": [
        "<a href=\"https://colab.research.google.com/github/shubham-20120/knn-project/blob/main/movies_recommendation_in_KNN.ipynb\" target=\"_parent\"><img src=\"https://colab.research.google.com/assets/colab-badge.svg\" alt=\"Open In Colab\"/></a>"
      ]
    },
    {
      "cell_type": "markdown",
      "metadata": {
        "id": "4KFvCmTF4Pdh"
      },
      "source": [
        "If you are willing to clone this project, please download dataset from [here](https://www.kaggle.com/rounakbanik/the-movies-dataset/download), then import \"rating.csv\" and \"movies_metadata.csv\""
      ]
    },
    {
      "cell_type": "markdown",
      "metadata": {
        "id": "9MSB3R227EXr"
      },
      "source": [
        "## Importing important libraries"
      ]
    },
    {
      "cell_type": "code",
      "metadata": {
        "id": "NkG3A9PsEoaM",
        "colab": {
          "base_uri": "https://localhost:8080/"
        },
        "outputId": "ec97a08b-fb01-4d64-cb3d-0b466510ed92"
      },
      "source": [
        "import pandas as pd\n",
        "import numpy as np\n",
        "from scipy.sparse import csr_matrix\n",
        "from sklearn.model_selection import train_test_split\n",
        "from sklearn.neighbors import KNeighborsClassifier\n",
        "from sklearn.neighbors import NearestNeighbors\n",
        "!pip install fuzzywuzzy\n",
        "from fuzzywuzzy import process\n",
        "import time"
      ],
      "execution_count": 1,
      "outputs": [
        {
          "output_type": "stream",
          "text": [
            "Collecting fuzzywuzzy\n",
            "  Downloading https://files.pythonhosted.org/packages/43/ff/74f23998ad2f93b945c0309f825be92e04e0348e062026998b5eefef4c33/fuzzywuzzy-0.18.0-py2.py3-none-any.whl\n",
            "Installing collected packages: fuzzywuzzy\n",
            "Successfully installed fuzzywuzzy-0.18.0\n"
          ],
          "name": "stdout"
        },
        {
          "output_type": "stream",
          "text": [
            "/usr/local/lib/python3.7/dist-packages/fuzzywuzzy/fuzz.py:11: UserWarning: Using slow pure-python SequenceMatcher. Install python-Levenshtein to remove this warning\n",
            "  warnings.warn('Using slow pure-python SequenceMatcher. Install python-Levenshtein to remove this warning')\n"
          ],
          "name": "stderr"
        }
      ]
    },
    {
      "cell_type": "markdown",
      "metadata": {
        "id": "mhI3dmlp5Nyf"
      },
      "source": [
        "## Import Dataset"
      ]
    },
    {
      "cell_type": "code",
      "metadata": {
        "id": "5cE2mmEnxY4B"
      },
      "source": [
        "rating = pd.read_csv('/content/drive/MyDrive/movie dataset/ratings.csv', usecols=['userId', 'movieId', 'rating'], dtype={'movieId':'int32', 'rating':'float32', 'userId':'int32'})\n",
        "movies = pd.read_csv('/content/drive/MyDrive/movie dataset/movies_metadata.csv', usecols=['id', 'title'], dtype={'movieId':'int32','title':'str'})"
      ],
      "execution_count": 4,
      "outputs": []
    },
    {
      "cell_type": "markdown",
      "metadata": {
        "id": "5OwlFWYS5TKs"
      },
      "source": [
        "## Visualizing Data"
      ]
    },
    {
      "cell_type": "code",
      "metadata": {
        "colab": {
          "base_uri": "https://localhost:8080/",
          "height": 0
        },
        "id": "AhRAuoUeufLg",
        "outputId": "304ae4f4-d412-43b2-9724-f835d5636dd8"
      },
      "source": [
        "movies.head()"
      ],
      "execution_count": 5,
      "outputs": [
        {
          "output_type": "execute_result",
          "data": {
            "text/html": [
              "<div>\n",
              "<style scoped>\n",
              "    .dataframe tbody tr th:only-of-type {\n",
              "        vertical-align: middle;\n",
              "    }\n",
              "\n",
              "    .dataframe tbody tr th {\n",
              "        vertical-align: top;\n",
              "    }\n",
              "\n",
              "    .dataframe thead th {\n",
              "        text-align: right;\n",
              "    }\n",
              "</style>\n",
              "<table border=\"1\" class=\"dataframe\">\n",
              "  <thead>\n",
              "    <tr style=\"text-align: right;\">\n",
              "      <th></th>\n",
              "      <th>id</th>\n",
              "      <th>title</th>\n",
              "    </tr>\n",
              "  </thead>\n",
              "  <tbody>\n",
              "    <tr>\n",
              "      <th>0</th>\n",
              "      <td>862</td>\n",
              "      <td>Toy Story</td>\n",
              "    </tr>\n",
              "    <tr>\n",
              "      <th>1</th>\n",
              "      <td>8844</td>\n",
              "      <td>Jumanji</td>\n",
              "    </tr>\n",
              "    <tr>\n",
              "      <th>2</th>\n",
              "      <td>15602</td>\n",
              "      <td>Grumpier Old Men</td>\n",
              "    </tr>\n",
              "    <tr>\n",
              "      <th>3</th>\n",
              "      <td>31357</td>\n",
              "      <td>Waiting to Exhale</td>\n",
              "    </tr>\n",
              "    <tr>\n",
              "      <th>4</th>\n",
              "      <td>11862</td>\n",
              "      <td>Father of the Bride Part II</td>\n",
              "    </tr>\n",
              "  </tbody>\n",
              "</table>\n",
              "</div>"
            ],
            "text/plain": [
              "      id                        title\n",
              "0    862                    Toy Story\n",
              "1   8844                      Jumanji\n",
              "2  15602             Grumpier Old Men\n",
              "3  31357            Waiting to Exhale\n",
              "4  11862  Father of the Bride Part II"
            ]
          },
          "metadata": {
            "tags": []
          },
          "execution_count": 5
        }
      ]
    },
    {
      "cell_type": "code",
      "metadata": {
        "colab": {
          "base_uri": "https://localhost:8080/",
          "height": 0
        },
        "id": "snrGhAZ7ud1-",
        "outputId": "ee00004e-90eb-4f6e-97ad-38e79677a59b"
      },
      "source": [
        "rating.head()"
      ],
      "execution_count": 6,
      "outputs": [
        {
          "output_type": "execute_result",
          "data": {
            "text/html": [
              "<div>\n",
              "<style scoped>\n",
              "    .dataframe tbody tr th:only-of-type {\n",
              "        vertical-align: middle;\n",
              "    }\n",
              "\n",
              "    .dataframe tbody tr th {\n",
              "        vertical-align: top;\n",
              "    }\n",
              "\n",
              "    .dataframe thead th {\n",
              "        text-align: right;\n",
              "    }\n",
              "</style>\n",
              "<table border=\"1\" class=\"dataframe\">\n",
              "  <thead>\n",
              "    <tr style=\"text-align: right;\">\n",
              "      <th></th>\n",
              "      <th>userId</th>\n",
              "      <th>movieId</th>\n",
              "      <th>rating</th>\n",
              "    </tr>\n",
              "  </thead>\n",
              "  <tbody>\n",
              "    <tr>\n",
              "      <th>0</th>\n",
              "      <td>1</td>\n",
              "      <td>110</td>\n",
              "      <td>1.0</td>\n",
              "    </tr>\n",
              "    <tr>\n",
              "      <th>1</th>\n",
              "      <td>1</td>\n",
              "      <td>147</td>\n",
              "      <td>4.5</td>\n",
              "    </tr>\n",
              "    <tr>\n",
              "      <th>2</th>\n",
              "      <td>1</td>\n",
              "      <td>858</td>\n",
              "      <td>5.0</td>\n",
              "    </tr>\n",
              "    <tr>\n",
              "      <th>3</th>\n",
              "      <td>1</td>\n",
              "      <td>1221</td>\n",
              "      <td>5.0</td>\n",
              "    </tr>\n",
              "    <tr>\n",
              "      <th>4</th>\n",
              "      <td>1</td>\n",
              "      <td>1246</td>\n",
              "      <td>5.0</td>\n",
              "    </tr>\n",
              "  </tbody>\n",
              "</table>\n",
              "</div>"
            ],
            "text/plain": [
              "   userId  movieId  rating\n",
              "0       1      110     1.0\n",
              "1       1      147     4.5\n",
              "2       1      858     5.0\n",
              "3       1     1221     5.0\n",
              "4       1     1246     5.0"
            ]
          },
          "metadata": {
            "tags": []
          },
          "execution_count": 6
        }
      ]
    },
    {
      "cell_type": "code",
      "metadata": {
        "colab": {
          "base_uri": "https://localhost:8080/"
        },
        "id": "CcmoWQeX2RRp",
        "outputId": "6793b378-8f0c-49bb-daac-0d572481985e"
      },
      "source": [
        "rating.shape"
      ],
      "execution_count": 7,
      "outputs": [
        {
          "output_type": "execute_result",
          "data": {
            "text/plain": [
              "(26024289, 3)"
            ]
          },
          "metadata": {
            "tags": []
          },
          "execution_count": 7
        }
      ]
    },
    {
      "cell_type": "markdown",
      "metadata": {
        "id": "HbtIHyiP5fI3"
      },
      "source": [
        "## Dividing Dataset in small chunks\n",
        "###### As dataset is too big, this will consume too much RAM, and if we are using [Google Colab](https://colab.research.google.com/), this big data will terminate our session"
      ]
    },
    {
      "cell_type": "code",
      "metadata": {
        "id": "VdwsxUZQCQO2"
      },
      "source": [
        "chunk_size = 500000\n",
        "chunks = [x for x in range(0, rating.shape[0], chunk_size)]\n",
        "len(chunks)"
      ],
      "execution_count": null,
      "outputs": []
    },
    {
      "cell_type": "code",
      "metadata": {
        "id": "ivclsXkYHCi2"
      },
      "source": [
        "div = rating[0:int(chunks[1])]\n",
        "dataMat = div.pivot(index='userId', columns='movieId',values='rating')\n",
        "temp = int(chunks[1])\n",
        "print('hold... this will take couple of minutes .... \\n')\n",
        "for i in range(2, len(chunks)-1):\n",
        "    print(int(temp/500000), '/', len(chunks))\n",
        "    div = rating[temp:int(chunks[i])]\n",
        "    temp=int(chunks[i])\n",
        "    dataMat.append(div.pivot(index='userId', columns='movieId',values='rating'))\n",
        "\n",
        "\n",
        "# At the end of this cell, we will get a 'data matrix - dataMat'\n",
        "# which consists of userId as row index and movieId as column index\n",
        "# and this matrix will hold movies ratings, to visialize matrix un-comment below command\n",
        "#dataMat"
      ],
      "execution_count": null,
      "outputs": []
    },
    {
      "cell_type": "markdown",
      "metadata": {
        "id": "aAEdq3D77N16"
      },
      "source": [
        "##### As running above cell will take too much time, you can export a csv consisting of 'dataMat' for future reference"
      ]
    },
    {
      "cell_type": "code",
      "metadata": {
        "id": "h4HS2xqtPKEf"
      },
      "source": [
        "np.savetxt(\"dataMat.csv\", dataMat, delimiter=\",\")"
      ],
      "execution_count": null,
      "outputs": []
    },
    {
      "cell_type": "markdown",
      "metadata": {
        "id": "INjk1ERW8i9j"
      },
      "source": [
        "### Importing previously saved data-Matrix (if not saved, proceed with dataMat)"
      ]
    },
    {
      "cell_type": "code",
      "metadata": {
        "id": "kUOvDZFx8wRz"
      },
      "source": [
        "data = pd.read_csv('/content/drive/MyDrive/movie dataset/dataMat.csv')\n",
        "data=csr_matrix(data.values)"
      ],
      "execution_count": 8,
      "outputs": []
    },
    {
      "cell_type": "markdown",
      "metadata": {
        "id": "9uQ_v-ao806j"
      },
      "source": [
        "## Defining out KNN model"
      ]
    },
    {
      "cell_type": "code",
      "metadata": {
        "id": "BmOZa-pTPsYr"
      },
      "source": [
        "model = NearestNeighbors(metric='cosine', n_neighbors=10, algorithm='brute')"
      ],
      "execution_count": 9,
      "outputs": []
    },
    {
      "cell_type": "markdown",
      "metadata": {
        "id": "OmplfUmx86ZX"
      },
      "source": [
        "#### Training model"
      ]
    },
    {
      "cell_type": "code",
      "metadata": {
        "colab": {
          "base_uri": "https://localhost:8080/"
        },
        "id": "D2EpQzEaSKjZ",
        "outputId": "2e90eb2c-df6c-4ed2-fa6b-62cda0ce0028"
      },
      "source": [
        "model.fit(data)"
      ],
      "execution_count": 10,
      "outputs": [
        {
          "output_type": "execute_result",
          "data": {
            "text/plain": [
              "NearestNeighbors(algorithm='brute', leaf_size=30, metric='cosine',\n",
              "                 metric_params=None, n_jobs=None, n_neighbors=10, p=2,\n",
              "                 radius=1.0)"
            ]
          },
          "metadata": {
            "tags": []
          },
          "execution_count": 10
        }
      ]
    },
    {
      "cell_type": "markdown",
      "metadata": {
        "id": "WbP_C8_s9Bmo"
      },
      "source": [
        "# Driving function"
      ]
    },
    {
      "cell_type": "code",
      "metadata": {
        "id": "mWUTInlOSQos"
      },
      "source": [
        "def engine(searchQuery, n):\n",
        "    print('\\nsearching for reccomendations ....\\n')\n",
        "    try:\n",
        "        movie_idx = process.extractOne(searchQuery,movies['title'])[2]\n",
        "    except:\n",
        "        print('\\nmovie not found :(\\n\\n')\n",
        "    try:\n",
        "        distances, indices=model.kneighbors(data[movie_idx], n_neighbors=n)\n",
        "        print('movies found...\\n')\n",
        "        for i in indices:\n",
        "            print(movies['title'][i].where(i!=movie_idx))\n",
        "                \n",
        "    except:\n",
        "        print('\\nno similar movies found :(\\n\\n')"
      ],
      "execution_count": 11,
      "outputs": []
    },
    {
      "cell_type": "markdown",
      "metadata": {
        "id": "V-nofNVT_KSg"
      },
      "source": [
        "#### user queries"
      ]
    },
    {
      "cell_type": "code",
      "metadata": {
        "colab": {
          "base_uri": "https://localhost:8080/"
        },
        "id": "vy_WvzUz1xlI",
        "outputId": "4f016673-af69-49d4-fcba-73a93061e844"
      },
      "source": [
        "print('\\n\\n!!! Welcome to Hollywood World !!!\\n\\n')\n",
        "movieName = input('Enter movie name: ')\n",
        "n = int(input('\\nEnter No. of Movies you want: '))\n",
        "engine(movieName, n)"
      ],
      "execution_count": 12,
      "outputs": [
        {
          "output_type": "stream",
          "text": [
            "\n",
            "\n",
            "!!! Welcome to Hollywood World !!!\n",
            "\n",
            "\n",
            "Enter movie name: jimanji\n",
            "\n",
            "Enter No. of Movies you want: 10\n",
            "\n",
            "searching for reccomendations ....\n",
            "\n",
            "movies found...\n",
            "\n",
            "1215                                   NaN\n",
            "692                            Sunset Park\n",
            "4915                              Galaxina\n",
            "2812                      The Razor's Edge\n",
            "2898                         Bustin' Loose\n",
            "1356                                Scream\n",
            "65      Lawnmower Man 2: Beyond Cyberspace\n",
            "5119                        Tender Cousins\n",
            "3472                          Center Stage\n",
            "4546                       Three Fugitives\n",
            "Name: title, dtype: object\n"
          ],
          "name": "stdout"
        }
      ]
    }
  ]
}